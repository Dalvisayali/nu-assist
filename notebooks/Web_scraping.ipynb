{
 "cells": [
  {
   "cell_type": "markdown",
   "id": "798db634",
   "metadata": {},
   "source": [
    "# Web Scraping\n",
    "\n",
    "Notebook to demonstrate web scraping the data from Northeastern Social Justice websites like "
   ]
  },
  {
   "cell_type": "markdown",
   "id": "a34ba0c4",
   "metadata": {},
   "source": [
    "## Imports"
   ]
  },
  {
   "cell_type": "code",
   "execution_count": 1,
   "id": "722fdb4d",
   "metadata": {},
   "outputs": [
    {
     "name": "stderr",
     "output_type": "stream",
     "text": [
      "/Users/sayalidalvi/opt/anaconda3/envs/venv/lib/python3.10/site-packages/requests/__init__.py:109: RequestsDependencyWarning: urllib3 (1.26.15) or chardet (None)/charset_normalizer (3.1.0) doesn't match a supported version!\n",
      "  warnings.warn(\n"
     ]
    }
   ],
   "source": [
    "import requests\n",
    "from bs4 import BeautifulSoup"
   ]
  },
  {
   "cell_type": "markdown",
   "id": "5cd7cb03",
   "metadata": {},
   "source": [
    "## Scrape \"https://www.northeastern.edu/uhcs/find-at-northeastern/\""
   ]
  },
  {
   "cell_type": "code",
   "execution_count": 2,
   "id": "8eae54e7",
   "metadata": {},
   "outputs": [
    {
     "name": "stdout",
     "output_type": "stream",
     "text": [
      "==================\n",
      "heading: 24/7 Support through Find@Northeastern\n",
      "paragraph: Support and resources that help you find yourself, your peace of mind, and your distinctive path.\n",
      "\r\n",
      "+1.877.233.9477 (U.S.) \r\n",
      "855.229.8797 (Canada), or \r\n",
      "+1.781.457.7777 (International)\n",
      "==================\n",
      "heading: Support starts with a call\n",
      "paragraph: Get 24/7 support at Find@Northeastern at +1.877.233.9477 (U.S.), or  855.229.8797  (Canada) or +1.781.457.7777 (International). You’ll speak with a licensed mental health counselor who will listen, offer guidance, and help you set a plan.\n",
      "==================\n",
      "heading: Unlimited free counseling sessions\n",
      "paragraph: On your first call with Find@Northeastern, they will help you connect with local providers or telehealth therapists.\n",
      "==================\n",
      "heading: Video Counseling\n",
      "paragraph: Wherever you are, there’s someone you can trust as close as your phone, iPad, or laptop. Find@Northeastern offers licensed video counselors you can connect with for support.\n",
      "==================\n",
      "heading: Togetherall\n",
      "paragraph: Express yourself and get support in this completely anonymous peer-to-peer mental health community, available 24/7. Free for all Northeastern University students.\n",
      "==================\n",
      "heading: Personal Follow Ups\n",
      "paragraph: Our Find@Northeastern professional support will provide helpful connections to the right resources for you.\n",
      "==================\n",
      "heading: Free access to Headspace\n",
      "paragraph: Mindfulness, meditation, sleep, focus, fitness & more. Build healthy habits and use Headspace anywhere, anytime. Create an account using your NUID.\n",
      "==================\n",
      "heading: Simply Call Find@Northeastern at +1.877.233.9477 (U.S.) 855.229.8797 (Canada), or +1.781.457.7777 (International).\n",
      "paragraph: Speak with an experienced clinician, get a referral for one-to-one counseling and access to free counseling sessions, and even schedule an appointment with a local or video counselor.\n",
      "==================\n",
      "heading: All Services Offered through Find@Northeastern are Confidential.\n",
      "paragraph: No information will be shared without your consent. You may review more information about confidentiality and release of medical information here.\n",
      "==================\n",
      "heading: What to Expect After Your First Call.\n",
      "paragraph: Click here to learn more about next steps.\n",
      "==================\n",
      "heading: I am currently living outside the United States and can’t access the international number, what can I do?\n",
      "paragraph: For student’s residing outside of the United States, there are a few ways to access Find@Northeastern. Students in Canada can call 855.229.8797. If international call +1.781.457.7777. If these numbers are  not accessible, you can use the below link and website to initiate contact. Please note, this is not for international students, rather this service is for students learning outside of the United States.\n",
      "==================\n",
      "heading: What to expect when you call Find@Northeastern\n",
      "paragraph: Responsive, empathetic mental health support is available to full-time students, 24 hours a day, 7 days a week, from any location by calling Find@Northeastern at 877.233.9477 (within the U.S.), 855-229-8797 (Canada), or +1.781.457.7777 (International).\n",
      "==================\n",
      "heading: These steps may include a referral to:\n",
      "paragraph: All services offered through UHCS, including calls to Find@Northeastern, are confidential. No information will be shared with anyone outside of UHCS without your consent. You may review more information about confidentiality and release of medical information here.\n",
      "==================\n",
      "heading: Are calls to Find@Northeastern confidential?\n",
      "paragraph: All services offered through UHCS, including calls to Find@Northeastern, are confidential. No information will be shared with anyone outside of UHCS without your consent. You may review more information about confidentiality and release of medical information here.\n",
      "==================\n",
      "heading: What happens when I am referred to ongoing in person counseling?\n",
      "paragraph: If you and the Find@Northeastern clinician decide that a referral to ongoing, in person therapy is appropriate, the clinician will try to connect you by phone—in that moment—with a therapist in the local community. If the therapist you’re calling is available, you can speak with them directly and schedule an appointment for the coming days. If the therapist is not available at the time of the call, the Find clinician will help you leave a voicemail for the therapist to call you back and review scheduling options.\n",
      "==================\n",
      "heading: What happens when I am referred to ongoing telehealth?\n",
      "paragraph: If you and the Find@Northeastern clinician decide that a referral to ongoing telehealth counseling is appropriate, the clinician will connect you via phone with a Find Navigator who will submit the referral. A counselor will then get in touch with you to schedule your first appointment. From your first appointment forward, you can connect with that therapist on video in real time. Telehealth is conducted by licensed clinicians via a secure videoconference platform called Zoom, which is similar to Skype.\n",
      "==================\n",
      "heading: What if I am looking for specialized treatment?\n",
      "paragraph: Through Find@Northeastern, all Northeastern students have unlimited free counseling sessions without using insurance. Find@Northeastern clinicians treat a range of issues, but they do not provide specialized care such as treatment for eating disorders, neuro-psychological testing, treatment for substance use or medication management.\n",
      "==================\n",
      "heading: What if I want a counselor with specific demographics/identities or who speaks a language other than English?\n",
      "paragraph: We make every effort to match you with a Find@Northeastern clinician who meets your demographic, identity, and language preferences; however, if one is not available through Find@Northeastern, we can initiate a referral through your insurance to find a clinician who meets your preferences.\n",
      "==================\n",
      "heading: How much will face-to-face and video counseling cost?\n",
      "paragraph: Full-time students enrolled in both the fall and spring semester, including N.U.In students, have access to unlimited free counseling. We make every effort possible to connect you with a therapist who will accept your insurance.\n",
      "==================\n",
      "heading: Why might I be referred to treatment in the local community rather than connected with a clinician at UHCS?\n",
      "paragraph: For students based in Boston, the clinicians at UHCS are here to offer brief assessment, follow-up visits and connection to ongoing care as needed. Clinicians in the community are generally able to provide longer-term treatment and more consistent and flexible scheduling, such as evening, Saturday, weekly, and telehealth (online) appointments.\n",
      "==================\n",
      "heading: I saw a therapist through Find@Northeastern last year and used all of my available ten sessions. How do I reconnect with a therapist for unlimited free visits?\n",
      "paragraph: As of fall 2021, Northeastern students are eligible for unlimited sessions through Find@Northeastern. If you are looking to reconnect with a therapist, call Find@Northeastern to discuss your current needs and to initiate a new referral. Let the Find clinician know if you are interested in reconnecting with the therapist you saw in the past. They will check to see if that therapist is currently available and if so, they will work to reconnect you with them. If that therapist is not currently available, they will assist you in connecting with another therapist.\n",
      "==================\n",
      "heading: Can I access Find@Northeastern after I graduate?\n",
      "paragraph: All full-time students graduating in May can access Find@Northeastern benefits, including the 24/7 support line and referrals for free visits, through the end of May. If you are looking for support options past May, we recommend you reach out to Find@Northeastern prior to May 31 to explore options available through your insurance.\n",
      "==================\n",
      "heading: I received a referral to a therapist through Find@Northeastern in the past but I did not connect with a clinician. I am interested in doing so now. How do I reconnect?\n",
      "paragraph: Reach out to Find@Northeastern to initiate a new referral and discuss your current needs.\n",
      "==================\n",
      "heading: How do I register for Headspace?\n",
      "paragraph: Headspace is available for all full time students through Find@Northeastern. To register for Headspace click here.\n",
      "==================\n",
      "heading: How do I register for Togetherall?\n",
      "paragraph: Togetherall is a peer-to-peer mental health support community which is available online, 24/7, and is completely anonymous so you can express yourself freely and openly. Available 24/7, students can set up a Togetherall account and get support today. Licensed and registered mental health practitioners, called Wall Guides, monitor the community to ensure the safety and anonymity of all members.\n"
     ]
    }
   ],
   "source": [
    "\n",
    "# Step 1: Fetch the web page\n",
    "url = 'https://www.northeastern.edu/uhcs/find-at-northeastern/'\n",
    "# Set a user agent to mimic a web browser\n",
    "headers = {'User-Agent': 'Mozilla/5.0 (Windows NT 10.0; Win64; x64) AppleWebKit/537.36 (KHTML, like Gecko) Chrome/91.0.4472.124 Safari/537.36'}\n",
    "\n",
    "response = requests.get(url, headers=headers)\n",
    "\n",
    "\n",
    "if response.status_code == 200:\n",
    "    html_content = response.content\n",
    "else:\n",
    "    print(f\"Failed to retrieve the webpage. Status code: {response.status_code}\")\n",
    "    exit()\n",
    "\n",
    "# Step 2: Parse the HTML content\n",
    "soup = BeautifulSoup(html_content, 'html.parser')\n",
    "\n",
    "# Step 3: Find all <h4> tags (questions)\n",
    "questions = soup.find_all('h4')\n",
    "\n",
    "# Step 4: Extract questions and corresponding answers\n",
    "qna_pairs = []\n",
    "\n",
    "for i in range(len(questions)-1):  # Iterate until second last question\n",
    "    question = questions[i].text.strip()\n",
    "    answer = questions[i].find_next('p').text.strip()  # Find the next <p> tag for the answer\n",
    "    \n",
    "    qna_pairs.append((question, answer))\n",
    "\n",
    "# Step 5: Print or use the Q&A pairs\n",
    "for qna_pair in qna_pairs:\n",
    "    print(\"==================\")\n",
    "    print(f\"heading: {qna_pair[0]}\")\n",
    "    print(f\"paragraph: {qna_pair[1]}\")\n"
   ]
  },
  {
   "cell_type": "markdown",
   "id": "2871fc39",
   "metadata": {},
   "source": [
    "## Scraped data from all such websites, added some manual data as well and stored it in similar format to `/data/dataset.csv`"
   ]
  },
  {
   "cell_type": "code",
   "execution_count": null,
   "id": "556baa8c",
   "metadata": {},
   "outputs": [],
   "source": []
  }
 ],
 "metadata": {
  "kernelspec": {
   "display_name": "Python 3 (ipykernel)",
   "language": "python",
   "name": "python3"
  },
  "language_info": {
   "codemirror_mode": {
    "name": "ipython",
    "version": 3
   },
   "file_extension": ".py",
   "mimetype": "text/x-python",
   "name": "python",
   "nbconvert_exporter": "python",
   "pygments_lexer": "ipython3",
   "version": "3.10.9"
  }
 },
 "nbformat": 4,
 "nbformat_minor": 5
}
